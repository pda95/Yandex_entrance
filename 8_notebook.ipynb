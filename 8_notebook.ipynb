{
 "cells": [
  {
   "cell_type": "markdown",
   "id": "f79c1709",
   "metadata": {},
   "source": [
    "Вы — менеджер в Яндекс Еде. Сегодня все аналитики уехали на конференцию и надо срочно проверить гипотезу, что пользователи, которые выбирают больше двух комплектов приборов, оставляют больше чаевых, чем остальные. У вас есть доступ к таблице с чаевыми за Январь 2022 года. Скачать таблицу: https://clck.ru/dWtzM\n",
    "\n",
    "cutlery — количество столовых приборов\n",
    "date — дата и время покупки\n",
    "order_price — сумма заказа\n",
    "uid — уникальный id пользователя\n",
    "tips — сумма чаевых\n",
    "order_id — уникальный номер заказа\n",
    "\n",
    "Проанализируйте данные. Найдите подтверждение или опровержение гипотезы.\n",
    "Соберите сегмент пользователей для дальнейшей коммуникации. В сегмент должны попасть все uid пользователей, которые добавляли в заказ больше двух комплектов столовых приборов и делали заказ не в январские праздники на сумму больше 800p. Укажите количество таких пользователей."
   ]
  },
  {
   "cell_type": "markdown",
   "id": "26951be9",
   "metadata": {},
   "source": [
    "Для решения задачи импортируем необходимые библиотеки для анализа данных, проверки статистических гипотез и визуализации данных:"
   ]
  },
  {
   "cell_type": "code",
   "execution_count": 52,
   "id": "e5e9800c",
   "metadata": {},
   "outputs": [],
   "source": [
    "import pandas as pd\n",
    "import seaborn as sns\n",
    "import matplotlib.pyplot as plt\n",
    "import numpy as np\n",
    "from scipy import stats"
   ]
  },
  {
   "cell_type": "markdown",
   "id": "704de30f",
   "metadata": {},
   "source": [
    "Прочитаем файл данных:"
   ]
  },
  {
   "cell_type": "code",
   "execution_count": 53,
   "id": "711b5363",
   "metadata": {},
   "outputs": [],
   "source": [
    "df = pd.read_csv(\"shmya_final_version (1).csv\")"
   ]
  },
  {
   "cell_type": "markdown",
   "id": "4cc2b86e",
   "metadata": {},
   "source": [
    "Посмотрим как выглядят данные:"
   ]
  },
  {
   "cell_type": "code",
   "execution_count": 54,
   "id": "2e3a7e72",
   "metadata": {
    "scrolled": false
   },
   "outputs": [
    {
     "data": {
      "text/html": [
       "<div>\n",
       "<style scoped>\n",
       "    .dataframe tbody tr th:only-of-type {\n",
       "        vertical-align: middle;\n",
       "    }\n",
       "\n",
       "    .dataframe tbody tr th {\n",
       "        vertical-align: top;\n",
       "    }\n",
       "\n",
       "    .dataframe thead th {\n",
       "        text-align: right;\n",
       "    }\n",
       "</style>\n",
       "<table border=\"1\" class=\"dataframe\">\n",
       "  <thead>\n",
       "    <tr style=\"text-align: right;\">\n",
       "      <th></th>\n",
       "      <th>date</th>\n",
       "      <th>cutlery</th>\n",
       "      <th>tips</th>\n",
       "      <th>order_price</th>\n",
       "      <th>uid</th>\n",
       "      <th>order_id</th>\n",
       "    </tr>\n",
       "  </thead>\n",
       "  <tbody>\n",
       "    <tr>\n",
       "      <th>0</th>\n",
       "      <td>2022-01-17 06:38:43</td>\n",
       "      <td>3</td>\n",
       "      <td>100</td>\n",
       "      <td>1001</td>\n",
       "      <td>120967</td>\n",
       "      <td>73041443</td>\n",
       "    </tr>\n",
       "    <tr>\n",
       "      <th>1</th>\n",
       "      <td>2022-01-23 11:09:22</td>\n",
       "      <td>4</td>\n",
       "      <td>110</td>\n",
       "      <td>309</td>\n",
       "      <td>325757</td>\n",
       "      <td>60500835</td>\n",
       "    </tr>\n",
       "    <tr>\n",
       "      <th>2</th>\n",
       "      <td>2022-01-24 19:40:03</td>\n",
       "      <td>1</td>\n",
       "      <td>10</td>\n",
       "      <td>891</td>\n",
       "      <td>986730</td>\n",
       "      <td>43230531</td>\n",
       "    </tr>\n",
       "    <tr>\n",
       "      <th>3</th>\n",
       "      <td>2022-01-14 18:01:22</td>\n",
       "      <td>5</td>\n",
       "      <td>70</td>\n",
       "      <td>749</td>\n",
       "      <td>868648</td>\n",
       "      <td>46180789</td>\n",
       "    </tr>\n",
       "    <tr>\n",
       "      <th>4</th>\n",
       "      <td>2022-01-19 22:32:43</td>\n",
       "      <td>2</td>\n",
       "      <td>10</td>\n",
       "      <td>469</td>\n",
       "      <td>863523</td>\n",
       "      <td>59266169</td>\n",
       "    </tr>\n",
       "    <tr>\n",
       "      <th>...</th>\n",
       "      <td>...</td>\n",
       "      <td>...</td>\n",
       "      <td>...</td>\n",
       "      <td>...</td>\n",
       "      <td>...</td>\n",
       "      <td>...</td>\n",
       "    </tr>\n",
       "    <tr>\n",
       "      <th>26052</th>\n",
       "      <td>2022-01-04 05:21:39</td>\n",
       "      <td>4</td>\n",
       "      <td>10</td>\n",
       "      <td>763</td>\n",
       "      <td>182587</td>\n",
       "      <td>85041983</td>\n",
       "    </tr>\n",
       "    <tr>\n",
       "      <th>26053</th>\n",
       "      <td>2022-01-18 14:43:12</td>\n",
       "      <td>3</td>\n",
       "      <td>60</td>\n",
       "      <td>790</td>\n",
       "      <td>187031</td>\n",
       "      <td>47894568</td>\n",
       "    </tr>\n",
       "    <tr>\n",
       "      <th>26054</th>\n",
       "      <td>2022-01-26 18:08:02</td>\n",
       "      <td>1</td>\n",
       "      <td>90</td>\n",
       "      <td>502</td>\n",
       "      <td>247419</td>\n",
       "      <td>75350869</td>\n",
       "    </tr>\n",
       "    <tr>\n",
       "      <th>26055</th>\n",
       "      <td>2022-01-18 05:55:09</td>\n",
       "      <td>2</td>\n",
       "      <td>80</td>\n",
       "      <td>418</td>\n",
       "      <td>474601</td>\n",
       "      <td>79438423</td>\n",
       "    </tr>\n",
       "    <tr>\n",
       "      <th>26056</th>\n",
       "      <td>2022-01-09 01:06:30</td>\n",
       "      <td>2</td>\n",
       "      <td>50</td>\n",
       "      <td>802</td>\n",
       "      <td>898956</td>\n",
       "      <td>87138202</td>\n",
       "    </tr>\n",
       "  </tbody>\n",
       "</table>\n",
       "<p>26057 rows × 6 columns</p>\n",
       "</div>"
      ],
      "text/plain": [
       "                      date  cutlery  tips  order_price     uid  order_id\n",
       "0      2022-01-17 06:38:43        3   100         1001  120967  73041443\n",
       "1      2022-01-23 11:09:22        4   110          309  325757  60500835\n",
       "2      2022-01-24 19:40:03        1    10          891  986730  43230531\n",
       "3      2022-01-14 18:01:22        5    70          749  868648  46180789\n",
       "4      2022-01-19 22:32:43        2    10          469  863523  59266169\n",
       "...                    ...      ...   ...          ...     ...       ...\n",
       "26052  2022-01-04 05:21:39        4    10          763  182587  85041983\n",
       "26053  2022-01-18 14:43:12        3    60          790  187031  47894568\n",
       "26054  2022-01-26 18:08:02        1    90          502  247419  75350869\n",
       "26055  2022-01-18 05:55:09        2    80          418  474601  79438423\n",
       "26056  2022-01-09 01:06:30        2    50          802  898956  87138202\n",
       "\n",
       "[26057 rows x 6 columns]"
      ]
     },
     "execution_count": 54,
     "metadata": {},
     "output_type": "execute_result"
    }
   ],
   "source": [
    "df[:]"
   ]
  },
  {
   "cell_type": "markdown",
   "id": "cc99942b",
   "metadata": {},
   "source": [
    "Удалим данные, где чаевые не оставляли (чтобы не смещать среднее, и увидить значимые различия):"
   ]
  },
  {
   "cell_type": "code",
   "execution_count": 55,
   "id": "075358e0",
   "metadata": {},
   "outputs": [],
   "source": [
    "df = df.drop(df[df.tips == 0].index)"
   ]
  },
  {
   "cell_type": "markdown",
   "id": "7d4c77ee",
   "metadata": {},
   "source": [
    "Добавляем новый столбец \"Group\", в котором показываем, что если количество столовых приборов <=2, то ставим в соответствие группу 0, если >2, то ставим группу 1. Делаем это для удобства анализа данных в дальнейшем:"
   ]
  },
  {
   "cell_type": "code",
   "execution_count": 56,
   "id": "2ad96dfe",
   "metadata": {},
   "outputs": [],
   "source": [
    "df['Group'] = np.where(df['cutlery']<=2, 0, 1)"
   ]
  },
  {
   "cell_type": "markdown",
   "id": "303ca394",
   "metadata": {},
   "source": [
    "Далее посмотрим общую информацию по данным, есть ли пропуски, какие типы данных и пр.:"
   ]
  },
  {
   "cell_type": "code",
   "execution_count": 57,
   "id": "9dd45330",
   "metadata": {},
   "outputs": [
    {
     "name": "stdout",
     "output_type": "stream",
     "text": [
      "<class 'pandas.core.frame.DataFrame'>\n",
      "Int64Index: 23303 entries, 0 to 26056\n",
      "Data columns (total 7 columns):\n",
      " #   Column       Non-Null Count  Dtype \n",
      "---  ------       --------------  ----- \n",
      " 0   date         23303 non-null  object\n",
      " 1   cutlery      23303 non-null  int64 \n",
      " 2   tips         23303 non-null  int64 \n",
      " 3   order_price  23303 non-null  int64 \n",
      " 4   uid          23303 non-null  int64 \n",
      " 5   order_id     23303 non-null  int64 \n",
      " 6   Group        23303 non-null  int32 \n",
      "dtypes: int32(1), int64(5), object(1)\n",
      "memory usage: 1.3+ MB\n"
     ]
    }
   ],
   "source": [
    "df.info()"
   ]
  },
  {
   "cell_type": "code",
   "execution_count": 58,
   "id": "a28c7d9d",
   "metadata": {},
   "outputs": [
    {
     "data": {
      "text/plain": [
       "date           0\n",
       "cutlery        0\n",
       "tips           0\n",
       "order_price    0\n",
       "uid            0\n",
       "order_id       0\n",
       "Group          0\n",
       "dtype: int64"
      ]
     },
     "execution_count": 58,
     "metadata": {},
     "output_type": "execute_result"
    }
   ],
   "source": [
    "df.isnull().sum()"
   ]
  },
  {
   "cell_type": "code",
   "execution_count": 59,
   "id": "c9e1a099",
   "metadata": {
    "scrolled": false
   },
   "outputs": [
    {
     "data": {
      "text/plain": [
       "date           23202\n",
       "cutlery            6\n",
       "tips              17\n",
       "order_price     1277\n",
       "uid             6433\n",
       "order_id        6457\n",
       "Group              2\n",
       "dtype: int64"
      ]
     },
     "execution_count": 59,
     "metadata": {},
     "output_type": "execute_result"
    }
   ],
   "source": [
    "df.nunique()"
   ]
  },
  {
   "cell_type": "markdown",
   "id": "2cd29125",
   "metadata": {},
   "source": [
    "Далее посмотрим основные вероятностные характеристики по каждому из атрибутов задачи"
   ]
  },
  {
   "cell_type": "code",
   "execution_count": 60,
   "id": "6877cc13",
   "metadata": {
    "scrolled": true
   },
   "outputs": [
    {
     "data": {
      "text/html": [
       "<div>\n",
       "<style scoped>\n",
       "    .dataframe tbody tr th:only-of-type {\n",
       "        vertical-align: middle;\n",
       "    }\n",
       "\n",
       "    .dataframe tbody tr th {\n",
       "        vertical-align: top;\n",
       "    }\n",
       "\n",
       "    .dataframe thead th {\n",
       "        text-align: right;\n",
       "    }\n",
       "</style>\n",
       "<table border=\"1\" class=\"dataframe\">\n",
       "  <thead>\n",
       "    <tr style=\"text-align: right;\">\n",
       "      <th></th>\n",
       "      <th>cutlery</th>\n",
       "      <th>tips</th>\n",
       "      <th>order_price</th>\n",
       "      <th>uid</th>\n",
       "      <th>order_id</th>\n",
       "      <th>Group</th>\n",
       "    </tr>\n",
       "  </thead>\n",
       "  <tbody>\n",
       "    <tr>\n",
       "      <th>count</th>\n",
       "      <td>23303.000000</td>\n",
       "      <td>23303.000000</td>\n",
       "      <td>23303.000000</td>\n",
       "      <td>23303.000000</td>\n",
       "      <td>2.330300e+04</td>\n",
       "      <td>23303.000000</td>\n",
       "    </tr>\n",
       "    <tr>\n",
       "      <th>mean</th>\n",
       "      <td>2.987727</td>\n",
       "      <td>68.399348</td>\n",
       "      <td>675.662189</td>\n",
       "      <td>550253.050938</td>\n",
       "      <td>5.498195e+07</td>\n",
       "      <td>0.616487</td>\n",
       "    </tr>\n",
       "    <tr>\n",
       "      <th>std</th>\n",
       "      <td>1.359165</td>\n",
       "      <td>42.961009</td>\n",
       "      <td>247.083175</td>\n",
       "      <td>257066.321387</td>\n",
       "      <td>2.574425e+07</td>\n",
       "      <td>0.486252</td>\n",
       "    </tr>\n",
       "    <tr>\n",
       "      <th>min</th>\n",
       "      <td>1.000000</td>\n",
       "      <td>10.000000</td>\n",
       "      <td>254.000000</td>\n",
       "      <td>100192.000000</td>\n",
       "      <td>1.000406e+07</td>\n",
       "      <td>0.000000</td>\n",
       "    </tr>\n",
       "    <tr>\n",
       "      <th>25%</th>\n",
       "      <td>2.000000</td>\n",
       "      <td>30.000000</td>\n",
       "      <td>481.000000</td>\n",
       "      <td>326083.000000</td>\n",
       "      <td>3.280629e+07</td>\n",
       "      <td>0.000000</td>\n",
       "    </tr>\n",
       "    <tr>\n",
       "      <th>50%</th>\n",
       "      <td>3.000000</td>\n",
       "      <td>60.000000</td>\n",
       "      <td>662.000000</td>\n",
       "      <td>550654.000000</td>\n",
       "      <td>5.488086e+07</td>\n",
       "      <td>1.000000</td>\n",
       "    </tr>\n",
       "    <tr>\n",
       "      <th>75%</th>\n",
       "      <td>4.000000</td>\n",
       "      <td>100.000000</td>\n",
       "      <td>842.000000</td>\n",
       "      <td>776851.000000</td>\n",
       "      <td>7.698710e+07</td>\n",
       "      <td>1.000000</td>\n",
       "    </tr>\n",
       "    <tr>\n",
       "      <th>max</th>\n",
       "      <td>6.000000</td>\n",
       "      <td>170.000000</td>\n",
       "      <td>1939.000000</td>\n",
       "      <td>999966.000000</td>\n",
       "      <td>9.997691e+07</td>\n",
       "      <td>1.000000</td>\n",
       "    </tr>\n",
       "  </tbody>\n",
       "</table>\n",
       "</div>"
      ],
      "text/plain": [
       "            cutlery          tips   order_price            uid      order_id  \\\n",
       "count  23303.000000  23303.000000  23303.000000   23303.000000  2.330300e+04   \n",
       "mean       2.987727     68.399348    675.662189  550253.050938  5.498195e+07   \n",
       "std        1.359165     42.961009    247.083175  257066.321387  2.574425e+07   \n",
       "min        1.000000     10.000000    254.000000  100192.000000  1.000406e+07   \n",
       "25%        2.000000     30.000000    481.000000  326083.000000  3.280629e+07   \n",
       "50%        3.000000     60.000000    662.000000  550654.000000  5.488086e+07   \n",
       "75%        4.000000    100.000000    842.000000  776851.000000  7.698710e+07   \n",
       "max        6.000000    170.000000   1939.000000  999966.000000  9.997691e+07   \n",
       "\n",
       "              Group  \n",
       "count  23303.000000  \n",
       "mean       0.616487  \n",
       "std        0.486252  \n",
       "min        0.000000  \n",
       "25%        0.000000  \n",
       "50%        1.000000  \n",
       "75%        1.000000  \n",
       "max        1.000000  "
      ]
     },
     "execution_count": 60,
     "metadata": {},
     "output_type": "execute_result"
    }
   ],
   "source": [
    "df.describe()"
   ]
  },
  {
   "cell_type": "markdown",
   "id": "6c61b0d8",
   "metadata": {},
   "source": [
    "Посмотрим, какие чаевые в среднем оставляли в зависимости от количества столовых приборов"
   ]
  },
  {
   "cell_type": "code",
   "execution_count": 61,
   "id": "57e174c5",
   "metadata": {
    "scrolled": true
   },
   "outputs": [
    {
     "data": {
      "text/plain": [
       "[Text(0, 0, '44.587'),\n",
       " Text(0, 0, '57.3773'),\n",
       " Text(0, 0, '67.7053'),\n",
       " Text(0, 0, '68.0586'),\n",
       " Text(0, 0, '108.384'),\n",
       " Text(0, 0, '148.594')]"
      ]
     },
     "execution_count": 61,
     "metadata": {},
     "output_type": "execute_result"
    },
    {
     "data": {
      "image/png": "[encoded data removed]",
      "text/plain": [
       "<Figure size 432x288 with 1 Axes>"
      ]
     },
     "metadata": {
      "needs_background": "light"
     },
     "output_type": "display_data"
    }
   ],
   "source": [
    "tips_mean = df['tips'].groupby([df.cutlery]).mean()\n",
    "ax = sns.barplot(x=tips_mean.index, y=tips_mean.values, data=df)\n",
    "ax.set(xlabel='cutlery', ylabel='mean_tips')\n",
    "ax.bar_label(ax.containers[0])"
   ]
  },
  {
   "cell_type": "markdown",
   "id": "2389b667",
   "metadata": {},
   "source": [
    "Далее посмотрим, какие в среднем чаевые оставляли клиенты, у которых было не более 2ух столовых приборов в заказе (Group 0), и у которых было более двух приборов в заказе (Group 1)"
   ]
  },
  {
   "cell_type": "code",
   "execution_count": 62,
   "id": "c0f83f3a",
   "metadata": {
    "scrolled": false
   },
   "outputs": [
    {
     "data": {
      "text/plain": [
       "[Text(0.5, 0, 'Group (0 - cutlery<=2, 1 - cutlery>2)'), Text(0, 0.5, 'tips')]"
      ]
     },
     "execution_count": 62,
     "metadata": {},
     "output_type": "execute_result"
    },
    {
     "data": {
      "image/png": "[encoded data removed]",
      "text/plain": [
       "<Figure size 432x288 with 1 Axes>"
      ]
     },
     "metadata": {
      "needs_background": "light"
     },
     "output_type": "display_data"
    }
   ],
   "source": [
    "ax = sns.boxplot(x=df.Group, y=df.tips, data=df)\n",
    "ax.set(xlabel='Group (0 - cutlery<=2, 1 - cutlery>2)', ylabel='tips')"
   ]
  },
  {
   "cell_type": "markdown",
   "id": "80d54684",
   "metadata": {},
   "source": [
    "Посмотрим на плотность вероятности распределения чаевых для клиентов, у которых было не более 2ух столовых приборов в заказе (Group 0), и у которых было более двух приборов в заказе (Group 1)"
   ]
  },
  {
   "cell_type": "code",
   "execution_count": 63,
   "id": "a8921012",
   "metadata": {
    "scrolled": true
   },
   "outputs": [
    {
     "data": {
      "text/plain": [
       "<seaborn.axisgrid.FacetGrid at 0x16d88e7eee0>"
      ]
     },
     "execution_count": 63,
     "metadata": {},
     "output_type": "execute_result"
    },
    {
     "data": {
      "image/png": "[encoded data removed]",
      "text/plain": [
       "<Figure size 360x360 with 1 Axes>"
      ]
     },
     "metadata": {
      "needs_background": "light"
     },
     "output_type": "display_data"
    }
   ],
   "source": [
    "sns.displot(data=df[df.Group==0], x=\"tips\", kind='kde')"
   ]
  },
  {
   "cell_type": "code",
   "execution_count": 64,
   "id": "ceec77e1",
   "metadata": {
    "scrolled": true
   },
   "outputs": [
    {
     "data": {
      "text/plain": [
       "<seaborn.axisgrid.FacetGrid at 0x16d88e0c700>"
      ]
     },
     "execution_count": 64,
     "metadata": {},
     "output_type": "execute_result"
    },
    {
     "data": {
      "image/png": "[encoded data removed]",
      "text/plain": [
       "<Figure size 360x360 with 1 Axes>"
      ]
     },
     "metadata": {
      "needs_background": "light"
     },
     "output_type": "display_data"
    }
   ],
   "source": [
    "sns.displot(data=df[df.Group==1], x=\"tips\", kind='kde')"
   ]
  },
  {
   "cell_type": "markdown",
   "id": "1a80115d",
   "metadata": {},
   "source": [
    "Также проверим гипотезу о нормальности распределения чаевых для клиентов, у которых было не более 2ух столовых приборов в заказе (Group 0), и у которых было более двух приборов в заказе (Group 1), с использованием Критерия Шапиро-Уилка. За критерий значимости возьмем p-value = 0.05 (стандартное значение для статистических задач):"
   ]
  },
  {
   "cell_type": "code",
   "execution_count": 65,
   "id": "8c2603ed",
   "metadata": {},
   "outputs": [
    {
     "name": "stdout",
     "output_type": "stream",
     "text": [
      "ShapiroResult(statistic=0.9355037212371826, pvalue=0.00010360267333453521)\n"
     ]
    }
   ],
   "source": [
    "print(stats.shapiro(df[df.Group==0].sample(100, random_state=10).tips));"
   ]
  },
  {
   "cell_type": "code",
   "execution_count": 66,
   "id": "d2403e3e",
   "metadata": {},
   "outputs": [
    {
     "name": "stdout",
     "output_type": "stream",
     "text": [
      "ShapiroResult(statistic=0.9319316744804382, pvalue=6.416433461708948e-05)\n"
     ]
    }
   ],
   "source": [
    "print(stats.shapiro(df[df.Group==1].sample(100, random_state=10).tips));"
   ]
  },
  {
   "cell_type": "markdown",
   "id": "f700291d",
   "metadata": {},
   "source": [
    "В целом по построенным распределениям, а также по полученным значениям Критерия Шапиро-Уилка, делаем вывод о том, что данные распределены не по нормальному закону распределения. Это значит, что для проверки статистических гипотез нужно пользоваться U-критерием Манна-Уитни"
   ]
  },
  {
   "cell_type": "markdown",
   "id": "14f7e06c",
   "metadata": {},
   "source": [
    "Наша нулевая гипотеза: пользователи, которые выбирают больше двух комплектов приборов, оставляют НЕ больше чаевых, чем остальные."
   ]
  },
  {
   "cell_type": "markdown",
   "id": "1301c6cf",
   "metadata": {},
   "source": [
    "Пользуемся U-критерием Манна-Уитни. За критерий значимости возьмем p-value = 0.05 (стандартное значение для статистических задач):"
   ]
  },
  {
   "cell_type": "code",
   "execution_count": 67,
   "id": "84e7f953",
   "metadata": {},
   "outputs": [
    {
     "name": "stdout",
     "output_type": "stream",
     "text": [
      "MannwhitneyuResult(statistic=4136.5, pvalue=0.03432919204254639)\n"
     ]
    }
   ],
   "source": [
    "print(stats.mannwhitneyu(df[df.Group==0].sample(100, random_state=10).tips, df[df.Group==1].sample(100, random_state=10).tips))"
   ]
  },
  {
   "cell_type": "markdown",
   "id": "a9f24f77",
   "metadata": {},
   "source": [
    "Полученное p-value<0.05, соответственно отвергаем нулевую гипотезу, и принимаем альтернативную гипотезу о том, что статистически пользователи, которые выбирают больше двух комплектов приборов, оставляют БОЛЬШЕ чаевых, чем остальные"
   ]
  },
  {
   "cell_type": "markdown",
   "id": "c14fa108",
   "metadata": {},
   "source": [
    "Чтобы еще больше убедиться в этом, посмотрим доверительные интервалы:"
   ]
  },
  {
   "cell_type": "code",
   "execution_count": 68,
   "id": "c8748e5f",
   "metadata": {},
   "outputs": [],
   "source": [
    "def get_interval_t(data, sample_size, random_state=10, alpha=0.95, qq=2):\n",
    "    data_sample = data.sample(sample_size)\n",
    "    n = data_sample.shape[0]\n",
    "    sample_mean = data_sample.mean()\n",
    "\n",
    "    # Вычисление стандартной ошибки среднего значения S/sqrt(n)\n",
    "    se = stats.sem(data_sample)\n",
    "    q = (1-((1-alpha)/qq))\n",
    "    t_value = stats.t.ppf(q, n-1)\n",
    "\n",
    "    return (sample_mean - t_value * se, sample_mean + t_value * se)"
   ]
  },
  {
   "cell_type": "code",
   "execution_count": 69,
   "id": "4b90c39c",
   "metadata": {},
   "outputs": [
    {
     "name": "stdout",
     "output_type": "stream",
     "text": [
      "(48.15508746269192, 60.64491253730808)\n",
      "(61.42085357738837, 79.57914642261163)\n"
     ]
    }
   ],
   "source": [
    "sample_means_a1=df[df.Group==0].sample(100, random_state=10).tips\n",
    "sample_means_a2=df[df.Group==1].sample(100, random_state=10).tips\n",
    "print(get_interval_t(sample_means_a1, len(sample_means_a1), random_state=10, alpha=0.95, qq=2))\n",
    "print(get_interval_t(sample_means_a2, len(sample_means_a2), random_state=10, alpha=0.95, qq=2))"
   ]
  },
  {
   "cell_type": "markdown",
   "id": "b51d8b60",
   "metadata": {},
   "source": [
    "Видим, что и доверительный интервал не пересекается у двух выборок. Таким образом, подтверждаем изначально поставленный вопрос задачи и постулируем: пользователи, которые выбирают больше двух комплектов приборов, оставляют больше чаевых, чем остальные. "
   ]
  },
  {
   "cell_type": "markdown",
   "id": "085c1ee0",
   "metadata": {},
   "source": [
    "Посмотрим, на сколько больше они оставляют (отличие средних выборок):"
   ]
  },
  {
   "cell_type": "code",
   "execution_count": 70,
   "id": "8a14979a",
   "metadata": {
    "scrolled": true
   },
   "outputs": [
    {
     "data": {
      "text/plain": [
       "27.322574400527415"
      ]
     },
     "execution_count": 70,
     "metadata": {},
     "output_type": "execute_result"
    }
   ],
   "source": [
    "df.tips.groupby(df.Group).mean()[1]-df.tips.groupby(df.Group).mean()[0]"
   ]
  },
  {
   "cell_type": "markdown",
   "id": "c294cf29",
   "metadata": {},
   "source": [
    "Далее отвечаем на следующий вопрос данной задачи: \n",
    "соберите сегмент пользователей для дальнейшей коммуникации. В сегмент должны попасть все uid пользователей, которые добавляли в заказ больше двух комплектов столовых приборов и делали заказ не в январские праздники на сумму больше 800p. Укажите количество таких пользователей."
   ]
  },
  {
   "cell_type": "markdown",
   "id": "1fe1a364",
   "metadata": {},
   "source": [
    "За январские праздники принят период до 2022-01-08 23:59:59:"
   ]
  },
  {
   "cell_type": "code",
   "execution_count": 71,
   "id": "956d353d",
   "metadata": {},
   "outputs": [],
   "source": [
    "segment = df[(df.cutlery>2) & (df.order_price>800) & (df.date>= '2022-01-09 00:00:00')]"
   ]
  },
  {
   "cell_type": "markdown",
   "id": "4827af69",
   "metadata": {},
   "source": [
    "Ответ:"
   ]
  },
  {
   "cell_type": "code",
   "execution_count": 72,
   "id": "f7998acd",
   "metadata": {},
   "outputs": [
    {
     "data": {
      "text/plain": [
       "2607"
      ]
     },
     "execution_count": 72,
     "metadata": {},
     "output_type": "execute_result"
    }
   ],
   "source": [
    "segment.uid.nunique()"
   ]
  }
 ],
 "metadata": {
  "kernelspec": {
   "display_name": "Python 3 (ipykernel)",
   "language": "python",
   "name": "python3"
  },
  "language_info": {
   "codemirror_mode": {
    "name": "ipython",
    "version": 3
   },
   "file_extension": ".py",
   "mimetype": "text/x-python",
   "name": "python",
   "nbconvert_exporter": "python",
   "pygments_lexer": "ipython3",
   "version": "3.9.7"
  },
  "toc": {
   "base_numbering": 1,
   "nav_menu": {},
   "number_sections": true,
   "sideBar": true,
   "skip_h1_title": false,
   "title_cell": "Table of Contents",
   "title_sidebar": "Contents",
   "toc_cell": false,
   "toc_position": {},
   "toc_section_display": true,
   "toc_window_display": false
  }
 },
 "nbformat": 4,
 "nbformat_minor": 5
}
